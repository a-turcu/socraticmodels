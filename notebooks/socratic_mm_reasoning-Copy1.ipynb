{
 "cells": [
  {
   "cell_type": "markdown",
   "metadata": {},
   "source": [
    "# Socratic Models for Multimodal Reasoning\n",
    "## Introduction\n",
    "In this notebook, we use the Socratic models approach applied to multimodal reasoning tasks, i.e, chain-of-thought (CoT) reasoning & visual question-answering (VQA)"
   ]
  },
  {
   "cell_type": "markdown",
   "metadata": {},
   "source": [
    "### Imports"
   ]
  },
  {
   "cell_type": "code",
   "execution_count": 2,
   "metadata": {
    "pycharm": {
     "is_executing": true
    }
   },
   "outputs": [],
   "source": [
    "\n",
    "# global\n",
    "import numpy as np\n",
    "import sys\n",
    "import os\n",
    "import json\n",
    "import matplotlib.pyplot as plt\n",
    "from transformers import set_seed\n",
    "import openai\n",
    "from datasets import load_dataset\n",
    "from dotenv import load_dotenv\n",
    "load_dotenv()\n",
    "\n",
    "# local \n",
    "sys.path.insert(0, '../')\n",
    "import scripts.image_captioning as ic\n",
    "from scripts.utils import get_device\n",
    "\n",
    "# Local imports\n",
    "from scripts.coco_caption_base_hp_tune import ImageCaptionerBaseline\n",
    "# extensions\n",
    "%load_ext autoreload\n",
    "%autoreload 2"
   ]
  },
  {
   "cell_type": "code",
   "execution_count": 3,
   "metadata": {},
   "outputs": [
    {
     "name": "stdout",
     "output_type": "stream",
     "text": [
      "load_places starting!\n",
      "load_places took 0.0s!\n",
      "load_objects starting!\n",
      "load_objects took 0.0s!\n"
     ]
    },
    {
     "data": {
      "application/vnd.jupyter.widget-view+json": {
       "model_id": "8ba7f0b764344adf870acaf07cb19c7f",
       "version_major": 2,
       "version_minor": 0
      },
      "text/plain": [
       "Loading checkpoint shards:   0%|          | 0/2 [00:00<?, ?it/s]"
      ]
     },
     "metadata": {},
     "output_type": "display_data"
    }
   ],
   "source": [
    "# Instantiate the baseline image captioner class.\n",
    "image_captioner = ImageCaptionerBaseline(set_type='demo')"
   ]
  },
  {
   "cell_type": "markdown",
   "metadata": {},
   "source": [
    "## Chain-of-thought reasoning"
   ]
  },
  {
   "cell_type": "markdown",
   "metadata": {},
   "source": [
    "### Data\n",
    "We use the [ScienceQA](https://scienceqa.github.io/) dataset."
   ]
  },
  {
   "cell_type": "code",
   "execution_count": 4,
   "metadata": {},
   "outputs": [
    {
     "data": {
      "application/vnd.jupyter.widget-view+json": {
       "model_id": "71690f6c2a9d455393023d99ad7002a5",
       "version_major": 2,
       "version_minor": 0
      },
      "text/plain": [
       "Downloading readme:   0%|          | 0.00/10.3k [00:00<?, ?B/s]"
      ]
     },
     "metadata": {},
     "output_type": "display_data"
    },
    {
     "name": "stdout",
     "output_type": "stream",
     "text": [
      "Downloading and preparing dataset None/None to /Users/ryanamaudruz/.cache/huggingface/datasets/derek-thomas___parquet/derek-thomas--ScienceQA-ca4903a3b5795914/0.0.0/2a3b91fbd88a2c90d1dbbb32b460cf621d31bd5b05b934492fdef7d8d6f236ec...\n"
     ]
    },
    {
     "data": {
      "application/vnd.jupyter.widget-view+json": {
       "model_id": "d26a353eced34358a80421b3f4544e49",
       "version_major": 2,
       "version_minor": 0
      },
      "text/plain": [
       "Downloading data files:   0%|          | 0/3 [00:00<?, ?it/s]"
      ]
     },
     "metadata": {},
     "output_type": "display_data"
    },
    {
     "data": {
      "application/vnd.jupyter.widget-view+json": {
       "model_id": "a5dfd23e9e5845428737479e101d4792",
       "version_major": 2,
       "version_minor": 0
      },
      "text/plain": [
       "Downloading data:   0%|          | 0.00/377M [00:00<?, ?B/s]"
      ]
     },
     "metadata": {},
     "output_type": "display_data"
    },
    {
     "data": {
      "application/vnd.jupyter.widget-view+json": {
       "model_id": "a4254ccae8bd4a429919fed3526f2bee",
       "version_major": 2,
       "version_minor": 0
      },
      "text/plain": [
       "Downloading data:   0%|          | 0.00/126M [00:00<?, ?B/s]"
      ]
     },
     "metadata": {},
     "output_type": "display_data"
    },
    {
     "data": {
      "application/vnd.jupyter.widget-view+json": {
       "model_id": "be72e844c96547b8af7e431eac1ed8a0",
       "version_major": 2,
       "version_minor": 0
      },
      "text/plain": [
       "Downloading data:   0%|          | 0.00/122M [00:00<?, ?B/s]"
      ]
     },
     "metadata": {},
     "output_type": "display_data"
    },
    {
     "data": {
      "application/vnd.jupyter.widget-view+json": {
       "model_id": "07dccc884c4b4fbda2b65cfff741cb41",
       "version_major": 2,
       "version_minor": 0
      },
      "text/plain": [
       "Extracting data files:   0%|          | 0/3 [00:00<?, ?it/s]"
      ]
     },
     "metadata": {},
     "output_type": "display_data"
    },
    {
     "data": {
      "application/vnd.jupyter.widget-view+json": {
       "model_id": "",
       "version_major": 2,
       "version_minor": 0
      },
      "text/plain": [
       "Generating train split:   0%|          | 0/12726 [00:00<?, ? examples/s]"
      ]
     },
     "metadata": {},
     "output_type": "display_data"
    },
    {
     "data": {
      "application/vnd.jupyter.widget-view+json": {
       "model_id": "",
       "version_major": 2,
       "version_minor": 0
      },
      "text/plain": [
       "Generating validation split:   0%|          | 0/4241 [00:00<?, ? examples/s]"
      ]
     },
     "metadata": {},
     "output_type": "display_data"
    },
    {
     "data": {
      "application/vnd.jupyter.widget-view+json": {
       "model_id": "",
       "version_major": 2,
       "version_minor": 0
      },
      "text/plain": [
       "Generating test split:   0%|          | 0/4241 [00:00<?, ? examples/s]"
      ]
     },
     "metadata": {},
     "output_type": "display_data"
    },
    {
     "name": "stdout",
     "output_type": "stream",
     "text": [
      "Dataset parquet downloaded and prepared to /Users/ryanamaudruz/.cache/huggingface/datasets/derek-thomas___parquet/derek-thomas--ScienceQA-ca4903a3b5795914/0.0.0/2a3b91fbd88a2c90d1dbbb32b460cf621d31bd5b05b934492fdef7d8d6f236ec. Subsequent calls will reuse this data.\n"
     ]
    }
   ],
   "source": [
    "# load scienceQA dataset\n",
    "scienceQA_dataset = load_dataset('derek-thomas/ScienceQA', split='validation')\n",
    "# filter out samples with no image\n",
    "scienceQA_dataset = [sample for sample in scienceQA_dataset if sample['image'] is not None]"
   ]
  },
  {
   "cell_type": "markdown",
   "metadata": {},
   "source": [
    "#### Visualize dataset samples"
   ]
  },
  {
   "cell_type": "code",
   "execution_count": 5,
   "metadata": {},
   "outputs": [
    {
     "data": {
      "image/png": "[encoded data removed]",
      "text/plain": [
       "<Figure size 300x300 with 1 Axes>"
      ]
     },
     "metadata": {},
     "output_type": "display_data"
    },
    {
     "name": "stdout",
     "output_type": "stream",
     "text": [
      "question: Which property matches this object?\n",
      "choices: ['flexible', 'slippery']\n",
      "answer: 0\n",
      "solution: Look at the object.\n",
      "Think about each property.\n",
      "A flexible object can be folded or bent without breaking easily. The spring is flexible.\n",
      "A slippery object is hard to hold onto or stand on. The spring is not slippery.\n"
     ]
    }
   ],
   "source": [
    "# select & viz sample\n",
    "sample_idx = 142\n",
    "sample = scienceQA_dataset[sample_idx]\n",
    "plt.figure(figsize=(3, 3))\n",
    "plt.imshow(sample['image'])\n",
    "plt.show()\n",
    "print(f'question: {sample[\"question\"]}\\nchoices: {sample[\"choices\"]}\\nanswer: {sample[\"answer\"]}\\nsolution: {sample[\"solution\"]}')"
   ]
  },
  {
   "cell_type": "markdown",
   "metadata": {},
   "source": [
    "### Zero-shot CoT reasoning\n",
    "Generate prompts using image info (CLIP) and questions, hints and choices from the dataset, along with a sentence to induce zero-shot CoT reasoning. Generate outputs (solution + rationale) from LM."
   ]
  },
  {
   "cell_type": "code",
   "execution_count": 7,
   "metadata": {},
   "outputs": [
    {
     "ename": "AttributeError",
     "evalue": "'LmPromptGenerator' object has no attribute 'create_cot_prompt'",
     "output_type": "error",
     "traceback": [
      "\u001b[0;31m---------------------------------------------------------------------------\u001b[0m",
      "\u001b[0;31mAttributeError\u001b[0m                            Traceback (most recent call last)",
      "Cell \u001b[0;32mIn[7], line 2\u001b[0m\n\u001b[1;32m      1\u001b[0m \u001b[38;5;66;03m# compose prompt\u001b[39;00m\n\u001b[0;32m----> 2\u001b[0m prompt \u001b[38;5;241m=\u001b[39m \u001b[43mimage_captioner\u001b[49m\u001b[38;5;241;43m.\u001b[39;49m\u001b[43mprompt_generator\u001b[49m\u001b[38;5;241;43m.\u001b[39;49m\u001b[43mcreate_cot_prompt\u001b[49m(\n\u001b[1;32m      3\u001b[0m     sample, clip_manager, vocab_manager, place_feats, obj_feats\n\u001b[1;32m      4\u001b[0m )\n\u001b[1;32m      5\u001b[0m \u001b[38;5;28mprint\u001b[39m(\u001b[38;5;124mf\u001b[39m\u001b[38;5;124m'\u001b[39m\u001b[38;5;124mprompt: \u001b[39m\u001b[38;5;132;01m{\u001b[39;00mprompt\u001b[38;5;132;01m}\u001b[39;00m\u001b[38;5;130;01m\\n\u001b[39;00m\u001b[38;5;124m'\u001b[39m)\n",
      "\u001b[0;31mAttributeError\u001b[0m: 'LmPromptGenerator' object has no attribute 'create_cot_prompt'"
     ]
    }
   ],
   "source": [
    "# compose prompt\n",
    "prompt = image_captioner.prompt_generator.create_cot_prompt(\n",
    "    sample, clip_manager, vocab_manager, place_feats, obj_feats\n",
    ")\n",
    "print(f'prompt: {prompt}\\n')"
   ]
  },
  {
   "cell_type": "code",
   "execution_count": null,
   "metadata": {},
   "outputs": [],
   "source": [
    "# generate output\n",
    "if lm_model == 'gpt':\n",
    "    lm_params = {'max_tokens': 100, 'temperature': 1., 'n': 1}\n",
    "    output = ic.get_response_gpt(prompt, **lm_params)\n",
    "else:\n",
    "    lm_params = {'max_new_tokens': 50, 'temperature': 1., 'do_sample': True, 'length_penalty': 2.} \n",
    "    output = lm_manager.generate_response(prompt, lm_params)\n",
    "\n",
    "print(f'output: {output}\\ngt solution: {sample[\"solution\"]}\\ngt answer: {sample[\"answer\"]}')"
   ]
  },
  {
   "cell_type": "markdown",
   "metadata": {},
   "source": [
    "### Few-shot CoT reasoning\n",
    "Generate prompts using image info (CLIP) and questions, hints and choices from the dataset, along with previous prompts & solutions (rational + choice) to induce few-shot CoT reasoning. Generate outputs from LM."
   ]
  },
  {
   "cell_type": "code",
   "execution_count": null,
   "metadata": {},
   "outputs": [],
   "source": [
    "# select & viz example & target samples\n",
    "# candidate pairs: single-prop: 122, 142 | multi-prop: 340, 142, \n",
    "# sample example\n",
    "eg_sample_idx, target_sample_idx = 142, 523\n",
    "eg_sample, target_sample = scienceQA_dataset[eg_sample_idx], scienceQA_dataset[target_sample_idx]\n",
    "# show example sample\n",
    "print('example sample:')\n",
    "plt.figure(figsize=(3, 3))\n",
    "plt.imshow(eg_sample['image'])\n",
    "plt.axis('off')\n",
    "plt.show()\n",
    "print(f'question: {eg_sample[\"question\"]}\\nchoices: {eg_sample[\"choices\"]}\\nanswer: {eg_sample[\"answer\"]}\\nsolution: {eg_sample[\"solution\"]}')\n",
    "\n",
    "# show target sample\n",
    "print('target sample:')\n",
    "plt.figure(figsize=(3, 3))\n",
    "plt.imshow(target_sample['image'])\n",
    "plt.axis('off')\n",
    "plt.show()\n",
    "print(f'question: {target_sample[\"question\"]}\\nchoices: {target_sample[\"choices\"]}\\nanswer: {target_sample[\"answer\"]}\\nsolution: {target_sample[\"solution\"]}')"
   ]
  },
  {
   "cell_type": "code",
   "execution_count": null,
   "metadata": {},
   "outputs": [],
   "source": [
    "# generate prompt\n",
    "prompt = prompt_generator.create_cot_prompt(eg_sample, clip_manager, vocab_manager, place_feats, obj_feats) + f'{eg_sample[\"solution\"]}. So the answer is {eg_sample[\"choices\"][eg_sample[\"answer\"]]}\\n' + prompt_generator.create_cot_prompt(target_sample, clip_manager, vocab_manager, place_feats, obj_feats)\n",
    "print(f'prompt: {prompt}\\n')"
   ]
  },
  {
   "cell_type": "code",
   "execution_count": null,
   "metadata": {},
   "outputs": [],
   "source": [
    "# generate outputs from LM\n",
    "if lm_model == 'gpt':\n",
    "    lm_params = {'max_tokens': 100, 'temperature': 1.}\n",
    "    output = ic.get_response_gpt(prompt, **lm_params)\n",
    "else:\n",
    "    lm_params = {'max_new_tokens': 100, 'temperature': 1., 'do_sample': False, 'length_penalty': 2.} \n",
    "    output = lm_manager.generate_response(prompt, lm_params)\n",
    "print(f'output: {output}\\ngt solution: {target_sample[\"solution\"]}\\ngt answer: {target_sample[\"answer\"]}')"
   ]
  },
  {
   "cell_type": "markdown",
   "metadata": {},
   "source": [
    "## Visual question-answering (VQA)\n",
    "Visual question-answering using VLM (CLIP) + LM\n",
    "### Zero-shot VQA"
   ]
  },
  {
   "cell_type": "code",
   "execution_count": null,
   "metadata": {},
   "outputs": [],
   "source": [
    "# get sample\n",
    "sample_idx = 148 # 134, 148\n",
    "sample = scienceQA_dataset[sample_idx]\n",
    "# show sample\n",
    "plt.figure(figsize=(4, 3))\n",
    "plt.imshow(sample['image'], aspect='auto')\n",
    "plt.show()\n",
    "print(f'question: {sample[\"question\"]}\\nchoices: {sample[\"choices\"]}\\nanswer: {sample[\"answer\"]}\\nsolution: {sample[\"solution\"]}')"
   ]
  },
  {
   "cell_type": "code",
   "execution_count": null,
   "metadata": {},
   "outputs": [],
   "source": [
    "# compose prompt\n",
    "prompt = prompt_generator.create_vqa_prompt(sample, clip_manager, vocab_manager, place_feats, obj_feats)\n",
    "print(f'prompt: {prompt}\\n')"
   ]
  },
  {
   "cell_type": "code",
   "execution_count": null,
   "metadata": {},
   "outputs": [],
   "source": [
    "# generate outputs from LM\n",
    "if lm_model == 'gpt':\n",
    "    lm_params = {'max_tokens': 20, 'temperature': 1.}\n",
    "    output = ic.get_response_gpt(prompt, **lm_params)\n",
    "else:\n",
    "    lm_params = {'max_new_tokens': 20, 'temperature': 1., 'do_sample': False} \n",
    "    output = lm_manager.generate_response(prompt, lm_params)\n",
    "print(f'output: {output}\\ngt answer: {sample[\"answer\"] }')"
   ]
  },
  {
   "cell_type": "markdown",
   "metadata": {},
   "source": [
    "### Few-shot VQA"
   ]
  },
  {
   "cell_type": "code",
   "execution_count": null,
   "metadata": {},
   "outputs": [],
   "source": [
    "# select & viz example & target samples\n",
    "# sample example\n",
    "eg_sample_idx, target_sample_idx = 148, 134\n",
    "eg_sample, target_sample = scienceQA_dataset[eg_sample_idx], scienceQA_dataset[target_sample_idx]\n",
    "# show example sample\n",
    "print('example sample:')\n",
    "plt.figure(figsize=(4, 3))\n",
    "plt.imshow(eg_sample['image'], aspect='auto')\n",
    "plt.axis('off')\n",
    "plt.show()\n",
    "print(f'question: {eg_sample[\"question\"]}\\nchoices: {eg_sample[\"choices\"]}\\nanswer: {eg_sample[\"answer\"]}')\n",
    "\n",
    "# show target sample\n",
    "print('target sample:')\n",
    "plt.figure(figsize=(4, 3))\n",
    "plt.imshow(target_sample['image'], aspect='auto')\n",
    "plt.axis('off')\n",
    "plt.show()\n",
    "print(f'question: {target_sample[\"question\"]}\\nchoices: {target_sample[\"choices\"]}\\nanswer: {target_sample[\"answer\"]}\\n')"
   ]
  },
  {
   "cell_type": "code",
   "execution_count": null,
   "metadata": {},
   "outputs": [],
   "source": [
    "# generate prompt\n",
    "prompt = prompt_generator.create_vqa_prompt(eg_sample, clip_manager, vocab_manager, place_feats, obj_feats) + f'{eg_sample[\"answer\"]}\\n' + prompt_generator.create_vqa_prompt(target_sample, clip_manager, vocab_manager, place_feats, obj_feats)\n",
    "print(f'prompt: {prompt}\\n')"
   ]
  },
  {
   "cell_type": "code",
   "execution_count": 1,
   "metadata": {},
   "outputs": [
    {
     "ename": "NameError",
     "evalue": "name 'lm_model' is not defined",
     "output_type": "error",
     "traceback": [
      "\u001b[0;31m---------------------------------------------------------------------------\u001b[0m",
      "\u001b[0;31mNameError\u001b[0m                                 Traceback (most recent call last)",
      "Cell \u001b[0;32mIn[1], line 2\u001b[0m\n\u001b[1;32m      1\u001b[0m \u001b[38;5;66;03m# generate outputs from LM\u001b[39;00m\n\u001b[0;32m----> 2\u001b[0m \u001b[38;5;28;01mif\u001b[39;00m \u001b[43mlm_model\u001b[49m \u001b[38;5;241m==\u001b[39m \u001b[38;5;124m'\u001b[39m\u001b[38;5;124mgpt\u001b[39m\u001b[38;5;124m'\u001b[39m:\n\u001b[1;32m      3\u001b[0m     lm_params \u001b[38;5;241m=\u001b[39m {\u001b[38;5;124m'\u001b[39m\u001b[38;5;124mmax_tokens\u001b[39m\u001b[38;5;124m'\u001b[39m: \u001b[38;5;241m100\u001b[39m, \u001b[38;5;124m'\u001b[39m\u001b[38;5;124mtemperature\u001b[39m\u001b[38;5;124m'\u001b[39m: \u001b[38;5;241m1.\u001b[39m}\n\u001b[1;32m      4\u001b[0m     output \u001b[38;5;241m=\u001b[39m ic\u001b[38;5;241m.\u001b[39mget_response_gpt(prompt, \u001b[38;5;241m*\u001b[39m\u001b[38;5;241m*\u001b[39mlm_params)\n",
      "\u001b[0;31mNameError\u001b[0m: name 'lm_model' is not defined"
     ]
    }
   ],
   "source": [
    "# generate outputs from LM\n",
    "if lm_model == 'gpt':\n",
    "    lm_params = {'max_tokens': 100, 'temperature': 1.}\n",
    "    output = ic.get_response_gpt(prompt, **lm_params)\n",
    "else:\n",
    "    lm_params = {'max_new_tokens': 100, 'temperature': 1., 'do_sample': False, 'length_penalty': 2.} \n",
    "    output = lm_manager.generate_response(prompt, lm_params)\n",
    "print(f'output: {output}\\ngt solution: {target_sample[\"solution\"]}\\ngt answer: {target_sample[\"answer\"]}')"
   ]
  },
  {
   "cell_type": "code",
   "execution_count": null,
   "metadata": {},
   "outputs": [],
   "source": []
  },
  {
   "cell_type": "code",
   "execution_count": null,
   "metadata": {},
   "outputs": [],
   "source": []
  },
  {
   "cell_type": "code",
   "execution_count": null,
   "metadata": {},
   "outputs": [],
   "source": []
  },
  {
   "cell_type": "markdown",
   "metadata": {},
   "source": [
    "#### Set seed & device"
   ]
  },
  {
   "cell_type": "code",
   "execution_count": 2,
   "metadata": {},
   "outputs": [
    {
     "name": "stdout",
     "output_type": "stream",
     "text": [
      "Using device: mps\n"
     ]
    }
   ],
   "source": [
    "set_seed(42)    # set seed for reproducibility\n",
    "# set the device to use\n",
    "device = get_device()\n",
    "print(f'Using device: {device}')"
   ]
  },
  {
   "cell_type": "markdown",
   "metadata": {},
   "source": [
    "#### Class instantiation"
   ]
  },
  {
   "cell_type": "code",
   "execution_count": 3,
   "metadata": {},
   "outputs": [
    {
     "name": "stdout",
     "output_type": "stream",
     "text": [
      "load_places starting!\n",
      "load_places took 0.0s!\n",
      "load_objects starting!\n",
      "load_objects took 0.1s!\n"
     ]
    }
   ],
   "source": [
    "# instantiate managers\n",
    "clip_manager = ic.ClipManager(device=device)\n",
    "image_manager = ic.ImageManager()\n",
    "vocab_manager = ic.VocabManager()\n",
    "prompt_generator = ic.LmPromptGenerator()"
   ]
  },
  {
   "cell_type": "code",
   "execution_count": 4,
   "metadata": {},
   "outputs": [
    {
     "ename": "TypeError",
     "evalue": "__init__() got an unexpected keyword argument 'device'",
     "output_type": "error",
     "traceback": [
      "\u001b[0;31m---------------------------------------------------------------------------\u001b[0m",
      "\u001b[0;31mTypeError\u001b[0m                                 Traceback (most recent call last)",
      "Cell \u001b[0;32mIn[4], line 4\u001b[0m\n\u001b[1;32m      2\u001b[0m lm_model \u001b[38;5;241m=\u001b[39m \u001b[38;5;124m'\u001b[39m\u001b[38;5;124mgpt\u001b[39m\u001b[38;5;124m'\u001b[39m \u001b[38;5;66;03m# gpt or huggingface transformer model\u001b[39;00m\n\u001b[1;32m      3\u001b[0m \u001b[38;5;66;03m# OpenAssistant/oasst-sft-4-pythia-12b-epoch-3.5, EleutherAI/gpt-neox-20b\u001b[39;00m\n\u001b[0;32m----> 4\u001b[0m lm_manager \u001b[38;5;241m=\u001b[39m \u001b[43mic\u001b[49m\u001b[38;5;241;43m.\u001b[39;49m\u001b[43mLmManager\u001b[49m\u001b[43m(\u001b[49m\u001b[43mversion\u001b[49m\u001b[38;5;241;43m=\u001b[39;49m\u001b[43mlm_model\u001b[49m\u001b[43m,\u001b[49m\u001b[43m \u001b[49m\u001b[43muse_api\u001b[49m\u001b[38;5;241;43m=\u001b[39;49m\u001b[38;5;28;43;01mTrue\u001b[39;49;00m\u001b[43m,\u001b[49m\u001b[43m \u001b[49m\u001b[43mdevice\u001b[49m\u001b[38;5;241;43m=\u001b[39;49m\u001b[43mdevice\u001b[49m\u001b[43m)\u001b[49m\n\u001b[1;32m      5\u001b[0m openai\u001b[38;5;241m.\u001b[39mapi_key \u001b[38;5;241m=\u001b[39m os\u001b[38;5;241m.\u001b[39mgetenv(\u001b[38;5;124m'\u001b[39m\u001b[38;5;124mOPENAI_API_KEY\u001b[39m\u001b[38;5;124m'\u001b[39m)\n",
      "\u001b[0;31mTypeError\u001b[0m: __init__() got an unexpected keyword argument 'device'"
     ]
    }
   ],
   "source": [
    "# setup lm\n",
    "lm_model = 'gpt' # gpt or huggingface transformer model\n",
    "# OpenAssistant/oasst-sft-4-pythia-12b-epoch-3.5, EleutherAI/gpt-neox-20b\n",
    "lm_manager = ic.LmManager(version=lm_model, use_api=True, device=device)\n",
    "openai.api_key = os.getenv('OPENAI_API_KEY')"
   ]
  },
  {
   "cell_type": "markdown",
   "metadata": {},
   "source": [
    "#### Create image & text embeddings"
   ]
  },
  {
   "cell_type": "code",
   "execution_count": null,
   "metadata": {},
   "outputs": [],
   "source": [
    "# compute place & objects features\n",
    "place_feats = clip_manager.get_text_emb([f'Photo of a {p}.' for p in vocab_manager.place_list])\n",
    "obj_feats = clip_manager.get_text_emb([f'Photo of a {o}.' for o in vocab_manager.object_list])"
   ]
  }
 ],
 "metadata": {
  "kernelspec": {
   "display_name": "Python 3 (ipykernel)",
   "language": "python",
   "name": "python3"
  },
  "language_info": {
   "codemirror_mode": {
    "name": "ipython",
    "version": 3
   },
   "file_extension": ".py",
   "mimetype": "text/x-python",
   "name": "python",
   "nbconvert_exporter": "python",
   "pygments_lexer": "ipython3",
   "version": "3.9.16"
  }
 },
 "nbformat": 4,
 "nbformat_minor": 2
}
