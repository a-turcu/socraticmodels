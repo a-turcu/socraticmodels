{
 "cells": [
  {
   "cell_type": "markdown",
   "id": "b8b9511a",
   "metadata": {},
   "source": [
    "# Demonstration of GitVision on Image Captioning"
   ]
  },
  {
   "cell_type": "markdown",
   "id": "ed74a311",
   "metadata": {},
   "source": [
    "## Introduction"
   ]
  },
  {
   "cell_type": "markdown",
   "id": "8ff717b4",
   "metadata": {},
   "source": [
    "This notebook is an exploration how the outputs one can expect using GitVision.\n",
    "\n",
    "It first shows the output if an image is passed without prompt. Then, it shows the output when both\n",
    "a prompt and an image are passed."
   ]
  },
  {
   "cell_type": "markdown",
   "id": "4b3c510a",
   "metadata": {},
   "source": [
    "## Imports"
   ]
  },
  {
   "cell_type": "code",
   "execution_count": 2,
   "id": "f5a939ce",
   "metadata": {},
   "outputs": [],
   "source": [
    "# Import packages\n",
    "import os\n",
    "import sys\n",
    "\n",
    "sys.path.append('..')\n",
    "# Depending on the platform/IDE used, the home directory might be the socraticmodels or the\n",
    "# socraticmodels/scripts directory. The following ensures that the current directory is the scripts folder.\n",
    "try:\n",
    "    os.chdir('scripts')\n",
    "except FileNotFoundError:\n",
    "    pass\n",
    "\n",
    "from scripts.utils import get_device\n",
    "from scripts.image_captioning import ImageManager, GitVisionManager"
   ]
  },
  {
   "cell_type": "markdown",
   "id": "e28928b4",
   "metadata": {},
   "source": [
    "## Instantiate the GitVision and image manager classes"
   ]
  },
  {
   "cell_type": "code",
   "execution_count": 3,
   "id": "3278cc9c",
   "metadata": {
    "pycharm": {
     "is_executing": true
    }
   },
   "outputs": [
    {
     "data": {
      "application/vnd.jupyter.widget-view+json": {
       "model_id": "ea3610ccd7fd4b7bbf8ecebedb3c0ec2",
       "version_major": 2,
       "version_minor": 0
      },
      "text/plain": [
       "Downloading (…)rocessor_config.json:   0%|          | 0.00/503 [00:00<?, ?B/s]"
      ]
     },
     "metadata": {},
     "output_type": "display_data"
    },
    {
     "data": {
      "application/vnd.jupyter.widget-view+json": {
       "model_id": "ee3eacf8c5cd4c3c89be73fafd4059ff",
       "version_major": 2,
       "version_minor": 0
      },
      "text/plain": [
       "Downloading (…)okenizer_config.json:   0%|          | 0.00/453 [00:00<?, ?B/s]"
      ]
     },
     "metadata": {},
     "output_type": "display_data"
    },
    {
     "data": {
      "application/vnd.jupyter.widget-view+json": {
       "model_id": "ab70bfde18084f589660fc0cc36a6a00",
       "version_major": 2,
       "version_minor": 0
      },
      "text/plain": [
       "Downloading (…)solve/main/vocab.txt:   0%|          | 0.00/232k [00:00<?, ?B/s]"
      ]
     },
     "metadata": {},
     "output_type": "display_data"
    },
    {
     "data": {
      "application/vnd.jupyter.widget-view+json": {
       "model_id": "1e8404cc20d14dfeaebba9f92c172f92",
       "version_major": 2,
       "version_minor": 0
      },
      "text/plain": [
       "Downloading (…)/main/tokenizer.json:   0%|          | 0.00/711k [00:00<?, ?B/s]"
      ]
     },
     "metadata": {},
     "output_type": "display_data"
    },
    {
     "data": {
      "application/vnd.jupyter.widget-view+json": {
       "model_id": "1b274983fb5146a5a76742056e18606a",
       "version_major": 2,
       "version_minor": 0
      },
      "text/plain": [
       "Downloading (…)cial_tokens_map.json:   0%|          | 0.00/125 [00:00<?, ?B/s]"
      ]
     },
     "metadata": {},
     "output_type": "display_data"
    },
    {
     "data": {
      "application/vnd.jupyter.widget-view+json": {
       "model_id": "13c4296d31344a4fbe0de7057d7da665",
       "version_major": 2,
       "version_minor": 0
      },
      "text/plain": [
       "Downloading (…)lve/main/config.json:   0%|          | 0.00/2.82k [00:00<?, ?B/s]"
      ]
     },
     "metadata": {},
     "output_type": "display_data"
    },
    {
     "data": {
      "application/vnd.jupyter.widget-view+json": {
       "model_id": "0dc4630961fd4fc58eaf9935c99ff8b0",
       "version_major": 2,
       "version_minor": 0
      },
      "text/plain": [
       "Downloading pytorch_model.bin:   0%|          | 0.00/707M [00:00<?, ?B/s]"
      ]
     },
     "metadata": {},
     "output_type": "display_data"
    },
    {
     "data": {
      "application/vnd.jupyter.widget-view+json": {
       "model_id": "549b107878eb411cad480fc4bd03e52d",
       "version_major": 2,
       "version_minor": 0
      },
      "text/plain": [
       "Downloading (…)neration_config.json:   0%|          | 0.00/141 [00:00<?, ?B/s]"
      ]
     },
     "metadata": {},
     "output_type": "display_data"
    }
   ],
   "source": [
    "# Set the device to use\n",
    "device = get_device()\n",
    "\n",
    "# Instantiate the GITVision manager\n",
    "git_vision_manager = GitVisionManager(device)\n",
    "\n",
    "# Instantiate the image manager\n",
    "image_manager = ImageManager()"
   ]
  },
  {
   "cell_type": "markdown",
   "id": "b12921f6",
   "metadata": {},
   "source": [
    "### Load the image"
   ]
  },
  {
   "cell_type": "code",
   "execution_count": 4,
   "id": "c301af39",
   "metadata": {},
   "outputs": [],
   "source": [
    "img_folder = '../data/images/example_images/'\n",
    "img_file = 'monkey_with_gun.jpg'\n",
    "img_path = img_folder + img_file\n",
    "img = image_manager.load_image(img_path)"
   ]
  },
  {
   "cell_type": "markdown",
   "id": "a22abc80",
   "metadata": {},
   "source": [
    "### Example caption"
   ]
  },
  {
   "cell_type": "code",
   "execution_count": 5,
   "id": "be512c75",
   "metadata": {},
   "outputs": [
    {
     "name": "stdout",
     "output_type": "stream",
     "text": [
      "GITVision caption: a monkey holding a gun in front of a mountain.\n"
     ]
    }
   ],
   "source": [
    "caption = git_vision_manager.generate_response(img)\n",
    "print(f'GITVision caption: {caption}')"
   ]
  },
  {
   "cell_type": "code",
   "execution_count": null,
   "id": "05dac5ff",
   "metadata": {},
   "outputs": [],
   "source": []
  }
 ],
 "metadata": {
  "kernelspec": {
   "display_name": "Python 3 (ipykernel)",
   "language": "python",
   "name": "python3"
  },
  "language_info": {
   "codemirror_mode": {
    "name": "ipython",
    "version": 3
   },
   "file_extension": ".py",
   "mimetype": "text/x-python",
   "name": "python",
   "nbconvert_exporter": "python",
   "pygments_lexer": "ipython3",
   "version": "3.9.16"
  }
 },
 "nbformat": 4,
 "nbformat_minor": 5
}
