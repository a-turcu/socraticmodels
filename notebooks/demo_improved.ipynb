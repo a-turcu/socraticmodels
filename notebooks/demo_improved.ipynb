{
 "cells": [
  {
   "cell_type": "markdown",
   "id": "b8b9511a",
   "metadata": {},
   "source": [
    "# SocraticFlanT5 - Improved"
   ]
  },
  {
   "cell_type": "markdown",
   "id": "ed74a311",
   "metadata": {},
   "source": [
    "## Introduction"
   ]
  },
  {
   "cell_type": "markdown",
   "id": "8ff717b4",
   "metadata": {},
   "source": [
    "In this notebook, we propose a new method to obtain image captions via the Socratic method.\n",
    "This is an improved pipeline that has for goal to generate similar or improved captions using open-source and free models."
   ]
  },
  {
   "cell_type": "markdown",
   "id": "4b3c510a",
   "metadata": {},
   "source": [
    "## Imports"
   ]
  },
  {
   "cell_type": "markdown",
   "id": "a7676983",
   "metadata": {},
   "source": [
    "Only a single class is needed to import all of the Image Captioning functionality."
   ]
  },
  {
   "cell_type": "code",
   "execution_count": 1,
   "id": "f5a939ce",
   "metadata": {},
   "outputs": [],
   "source": [
    "# Package loading\n",
    "import sys\n",
    "sys.path.append('..')\n",
    "from scripts.image_captioning import ImageCaptionerImprovedExtended"
   ]
  },
  {
   "cell_type": "markdown",
   "id": "e28928b4",
   "metadata": {},
   "source": [
    "## Instantiate the improved captioner class"
   ]
  },
  {
   "cell_type": "markdown",
   "id": "7b584b86",
   "metadata": {},
   "source": [
    "During the image captioner class instantiation, all of the helper classes such as ClipManager, ImageManager"
   ]
  },
  {
   "cell_type": "code",
   "execution_count": 2,
   "id": "3278cc9c",
   "metadata": {
    "pycharm": {
     "is_executing": true
    }
   },
   "outputs": [],
   "source": [
    "image_captioner = ImageCaptionerImprovedExtended(set_type='demo')"
   ]
  },
  {
   "cell_type": "markdown",
   "id": "f73f34fd",
   "metadata": {},
   "source": [
    "## Run main"
   ]
  },
  {
   "cell_type": "code",
   "execution_count": 3,
   "id": "455043c9",
   "metadata": {
    "pycharm": {
     "is_executing": true
    }
   },
   "outputs": [],
   "source": [
    "image_captioner.main()"
   ]
  },
  {
   "cell_type": "markdown",
   "id": "d6aa36cd",
   "metadata": {},
   "source": [
    "## Load image and compute image embedding"
   ]
  },
  {
   "cell_type": "code",
   "execution_count": 4,
   "id": "ebbb5c81",
   "metadata": {
    "scrolled": false
   },
   "outputs": [],
   "source": [
    "image_folder = '../data/images/example_images/'\n",
    "# Show the image\n",
    "for img_name in image_captioner.image_manager.demo_names:\n",
    "    print(f'{img_name}:')\n",
    "    image_captioner.show_demo_image(img_name)\n",
    "    cond = image_captioner.generated_caption_df['image_name'] == image_folder + img_name\n",
    "    generate_caption = image_captioner.generated_caption_df[cond]['generated_caption'].iloc[0]\n",
    "    print(f'generate caption: \"{generate_caption}\"\\n')\n",
    "    print('====================================\\n')"
   ]
  }
 ],
 "metadata": {
  "kernelspec": {
   "display_name": "Python 3 (ipykernel)",
   "language": "python",
   "name": "python3"
  },
  "language_info": {
   "codemirror_mode": {
    "name": "ipython",
    "version": 3
   },
   "file_extension": ".py",
   "mimetype": "text/x-python",
   "name": "python",
   "nbconvert_exporter": "python",
   "pygments_lexer": "ipython3",
   "version": "3.9.16"
  }
 },
 "nbformat": 4,
 "nbformat_minor": 5
}
