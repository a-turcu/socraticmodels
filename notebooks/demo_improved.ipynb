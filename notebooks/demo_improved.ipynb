{
 "cells": [
  {
   "cell_type": "markdown",
   "id": "b8b9511a",
   "metadata": {},
   "source": [
    "# SocraticFlanT5 - Improved"
   ]
  },
  {
   "cell_type": "markdown",
   "id": "ed74a311",
   "metadata": {},
   "source": [
    "## Introduction"
   ]
  },
  {
   "cell_type": "markdown",
   "id": "8ff717b4",
   "metadata": {},
   "source": [
    "In this notebook, we propose a new method to obtain image captions via the Socratic method.\n",
    "This is an improved pipeline that has for goal to generate similar or improved captions using open-source and free models."
   ]
  },
  {
   "cell_type": "markdown",
   "id": "4b3c510a",
   "metadata": {},
   "source": [
    "## Imports"
   ]
  },
  {
   "cell_type": "code",
   "execution_count": 1,
   "id": "f5a939ce",
   "metadata": {},
   "outputs": [],
   "source": [
    "# Package loading\n",
    "from transformers import set_seed\n",
    "import os\n",
    "import numpy as np\n",
    "import pandas as pd\n",
    "import matplotlib.pyplot as plt\n",
    "\n",
    "# Local imports\n",
    "import sys\n",
    "\n",
    "sys.path.append('..')\n",
    "try:\n",
    "    os.chdir('scripts')\n",
    "except:\n",
    "    pass\n",
    "from scripts.coco_captioning_improved import ImageCaptionerImprovedExtended"
   ]
  },
  {
   "cell_type": "markdown",
   "id": "e28928b4",
   "metadata": {},
   "source": [
    "## Instantiate the improved captioner class"
   ]
  },
  {
   "cell_type": "code",
   "execution_count": 2,
   "id": "3278cc9c",
   "metadata": {
    "pycharm": {
     "is_executing": true
    }
   },
   "outputs": [
    {
     "name": "stdout",
     "output_type": "stream",
     "text": [
      "load_places starting!\n",
      "load_places took 0.0s!\n",
      "load_objects starting!\n",
      "load_objects took 0.1s!\n"
     ]
    },
    {
     "data": {
      "application/vnd.jupyter.widget-view+json": {
       "model_id": "654f7e9911d64a19bd760a6e4ba70c95",
       "version_major": 2,
       "version_minor": 0
      },
      "text/plain": [
       "Loading checkpoint shards:   0%|          | 0/2 [00:00<?, ?it/s]"
      ]
     },
     "metadata": {},
     "output_type": "display_data"
    }
   ],
   "source": [
    "image_captioner = ImageCaptionerImprovedExtended(set_type='demo')"
   ]
  },
  {
   "cell_type": "markdown",
   "id": "f73f34fd",
   "metadata": {},
   "source": [
    "## Run main"
   ]
  },
  {
   "cell_type": "code",
   "execution_count": null,
   "id": "455043c9",
   "metadata": {
    "pycharm": {
     "is_executing": true
    }
   },
   "outputs": [
    {
     "name": "stdout",
     "output_type": "stream",
     "text": [
      "main starting!\n",
      "generate_response starting!\n",
      "generate_response took 77.6s!\n",
      "generate_response starting!\n"
     ]
    }
   ],
   "source": [
    "image_captioner.main()"
   ]
  },
  {
   "cell_type": "markdown",
   "id": "d6aa36cd",
   "metadata": {},
   "source": [
    "## Load image and compute image embedding"
   ]
  },
  {
   "cell_type": "code",
   "execution_count": null,
   "id": "ebbb5c81",
   "metadata": {
    "scrolled": false
   },
   "outputs": [],
   "source": [
    "image_folder = '../data/images/example_images/'\n",
    "# Show the image\n",
    "for img_name in image_captioner.image_manager.demo_names:\n",
    "    print(f'{img_name}:')\n",
    "    plt.imshow(image_captioner.image_manager.load_image(image_folder + img_name))\n",
    "    plt.show()\n",
    "    cond = image_captioner.generated_caption_df['image_name'] == image_folder + img_name\n",
    "    generate_caption = image_captioner.generated_caption_df[cond]['generated_caption'].iloc[0]\n",
    "    print(f'generate caption: \"{generate_caption}\"\\n')\n",
    "    print('====================================\\n')"
   ]
  }
 ],
 "metadata": {
  "kernelspec": {
   "display_name": "Python 3 (ipykernel)",
   "language": "python",
   "name": "python3"
  },
  "language_info": {
   "codemirror_mode": {
    "name": "ipython",
    "version": 3
   },
   "file_extension": ".py",
   "mimetype": "text/x-python",
   "name": "python",
   "nbconvert_exporter": "python",
   "pygments_lexer": "ipython3",
   "version": "3.9.16"
  }
 },
 "nbformat": 4,
 "nbformat_minor": 5
}
