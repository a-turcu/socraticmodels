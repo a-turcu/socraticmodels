{
 "cells": [
  {
   "cell_type": "markdown",
   "id": "b8b9511a",
   "metadata": {},
   "source": [
    "# SocraticFlanT5 - Baseline"
   ]
  },
  {
   "cell_type": "markdown",
   "id": "ed74a311",
   "metadata": {},
   "source": [
    "## Introduction"
   ]
  },
  {
   "cell_type": "markdown",
   "id": "8ff717b4",
   "metadata": {},
   "source": [
    "The goal of this jupyter notebook is to reproduce the Socratic Models paper with the Flan-T5 model. This provides a baseline for us to build upon."
   ]
  },
  {
   "cell_type": "markdown",
   "id": "4b3c510a",
   "metadata": {},
   "source": [
    "## Imports"
   ]
  },
  {
   "cell_type": "code",
   "execution_count": 1,
   "id": "f5a939ce",
   "metadata": {},
   "outputs": [],
   "source": [
    "# Package loading\n",
    "from transformers import set_seed\n",
    "import os\n",
    "import numpy as np\n",
    "import pandas as pd\n",
    "import matplotlib.pyplot as plt\n",
    "\n",
    "# Local imports\n",
    "import sys\n",
    "\n",
    "sys.path.append('..')\n",
    "try:\n",
    "    os.chdir('scripts')\n",
    "except:\n",
    "    pass\n",
    "\n",
    "from scripts.coco_captioning_baseline import ImageCaptionerBaseline"
   ]
  },
  {
   "cell_type": "markdown",
   "id": "e28928b4",
   "metadata": {},
   "source": [
    "## Instantiate the improved captioner class"
   ]
  },
  {
   "cell_type": "code",
   "execution_count": 2,
   "id": "3278cc9c",
   "metadata": {
    "pycharm": {
     "is_executing": true
    }
   },
   "outputs": [
    {
     "name": "stdout",
     "output_type": "stream",
     "text": [
      "load_places starting!\n",
      "load_places took 0.0s!\n",
      "load_objects starting!\n",
      "load_objects took 0.0s!\n"
     ]
    },
    {
     "data": {
      "application/vnd.jupyter.widget-view+json": {
       "model_id": "53ac4ba2affb4b18a809117fef7bd1ec",
       "version_major": 2,
       "version_minor": 0
      },
      "text/plain": [
       "Loading checkpoint shards:   0%|          | 0/2 [00:00<?, ?it/s]"
      ]
     },
     "metadata": {},
     "output_type": "display_data"
    }
   ],
   "source": [
    "image_captioner = ImageCaptionerBaseline(set_type='demo')"
   ]
  },
  {
   "cell_type": "markdown",
   "id": "f73f34fd",
   "metadata": {},
   "source": [
    "## Run main"
   ]
  },
  {
   "cell_type": "code",
   "execution_count": null,
   "id": "455043c9",
   "metadata": {
    "pycharm": {
     "is_executing": true
    }
   },
   "outputs": [
    {
     "name": "stdout",
     "output_type": "stream",
     "text": [
      "main starting!\n",
      "generate_response starting!\n"
     ]
    }
   ],
   "source": [
    "image_captioner.main()"
   ]
  },
  {
   "cell_type": "markdown",
   "id": "d6aa36cd",
   "metadata": {},
   "source": [
    "## Load image and compute image embedding"
   ]
  },
  {
   "cell_type": "code",
   "execution_count": null,
   "id": "ebbb5c81",
   "metadata": {
    "scrolled": false
   },
   "outputs": [],
   "source": [
    "image_folder = '../data/images/example_images/'\n",
    "# Show the image\n",
    "for img_name in image_captioner.image_manager.demo_names:\n",
    "    print(f'{img_name}:')\n",
    "    plt.imshow(image_captioner.image_manager.load_image(image_folder + img_name))\n",
    "    plt.show()\n",
    "    cond = image_captioner.generated_caption_df['image_name'] == img_name\n",
    "    generate_caption = image_captioner.generated_caption_df[cond]['generated_caption'].iloc[0]\n",
    "    print(f'generate caption: \"{generate_caption}\"\\n')\n",
    "    print('====================================\\n')"
   ]
  },
  {
   "cell_type": "code",
   "execution_count": null,
   "id": "0cd34d88",
   "metadata": {},
   "outputs": [],
   "source": [
    "image_captioner.sorted_obj_dic['../data/images/example_images/wedding_image.jpg']"
   ]
  },
  {
   "cell_type": "code",
   "execution_count": null,
   "id": "757b61b2",
   "metadata": {},
   "outputs": [],
   "source": [
    "image_captioner.generated_caption_df[cond]['generated_caption'].iloc[0]"
   ]
  },
  {
   "cell_type": "code",
   "execution_count": null,
   "id": "5c5b1477",
   "metadata": {},
   "outputs": [],
   "source": []
  }
 ],
 "metadata": {
  "kernelspec": {
   "display_name": "Python 3 (ipykernel)",
   "language": "python",
   "name": "python3"
  },
  "language_info": {
   "codemirror_mode": {
    "name": "ipython",
    "version": 3
   },
   "file_extension": ".py",
   "mimetype": "text/x-python",
   "name": "python",
   "nbconvert_exporter": "python",
   "pygments_lexer": "ipython3",
   "version": "3.9.16"
  }
 },
 "nbformat": 4,
 "nbformat_minor": 5
}
