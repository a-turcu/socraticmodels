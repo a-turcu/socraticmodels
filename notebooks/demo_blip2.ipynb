{
 "cells": [
  {
   "cell_type": "markdown",
   "id": "b8b9511a",
   "metadata": {},
   "source": [
    "# Demonstration of BLIP2 on Image Captioning"
   ]
  },
  {
   "cell_type": "markdown",
   "id": "ed74a311",
   "metadata": {},
   "source": [
    "## Introduction"
   ]
  },
  {
   "cell_type": "markdown",
   "id": "8ff717b4",
   "metadata": {},
   "source": [
    "This notebook is an exploration how the outputs one can expect using BLIP2.\n",
    "\n",
    "It first shows the output if an image is passed without prompt. Then, it shows the output when both\n",
    "a prompt and an image are passed."
   ]
  },
  {
   "cell_type": "markdown",
   "id": "4b3c510a",
   "metadata": {},
   "source": [
    "## Imports"
   ]
  },
  {
   "cell_type": "code",
   "execution_count": 1,
   "id": "f5a939ce",
   "metadata": {},
   "outputs": [],
   "source": [
    "# Import packages\n",
    "import os\n",
    "import sys\n",
    "sys.path.append('..')\n",
    "\n",
    "# Depending on the platform/IDE used, the home directory might be the socraticmodels or the\n",
    "# socraticmodels/scripts directory. The following ensures that the current directory is the scripts folder.\n",
    "try:\n",
    "    os.chdir('scripts')\n",
    "except FileNotFoundError:\n",
    "    pass\n",
    "\n",
    "# Local imports\n",
    "from scripts.image_captioning import ImageManager, Blip2Manager\n",
    "from scripts.utils import get_device"
   ]
  },
  {
   "cell_type": "markdown",
   "id": "e28928b4",
   "metadata": {},
   "source": [
    "## Instantiate the BLIP2 and image manager classes"
   ]
  },
  {
   "cell_type": "code",
   "execution_count": 2,
   "id": "3278cc9c",
   "metadata": {
    "pycharm": {
     "is_executing": true
    }
   },
   "outputs": [
    {
     "data": {
      "application/vnd.jupyter.widget-view+json": {
       "model_id": "da972c6bc4f94d4f9565056f11b868b9",
       "version_major": 2,
       "version_minor": 0
      },
      "text/plain": [
       "Loading checkpoint shards:   0%|          | 0/2 [00:00<?, ?it/s]"
      ]
     },
     "metadata": {},
     "output_type": "display_data"
    }
   ],
   "source": [
    "# Set the device to use\n",
    "device = get_device()\n",
    "\n",
    "# Instantiate the BLIP2 manager\n",
    "blip2_manager = Blip2Manager(device)\n",
    "\n",
    "# Instantiate the image manager\n",
    "image_manager = ImageManager()"
   ]
  },
  {
   "cell_type": "markdown",
   "id": "b12921f6",
   "metadata": {},
   "source": [
    "### Load the image"
   ]
  },
  {
   "cell_type": "code",
   "execution_count": 3,
   "id": "c301af39",
   "metadata": {},
   "outputs": [],
   "source": [
    "img_folder = '../data/images/example_images/'\n",
    "img_file = 'astronaut_with_beer.jpg'\n",
    "img_path = img_folder + img_file\n",
    "image = image_manager.load_image(img_path)"
   ]
  },
  {
   "cell_type": "markdown",
   "id": "a5007d19",
   "metadata": {},
   "source": [
    "### Set the model parameters"
   ]
  },
  {
   "cell_type": "code",
   "execution_count": 4,
   "id": "7fdebbca",
   "metadata": {},
   "outputs": [],
   "source": [
    "model_params = {\n",
    "    'max_length': 40,\n",
    "    'no_repeat_ngram_size': 2,\n",
    "    'repetition_penalty': 1.5,\n",
    "}"
   ]
  },
  {
   "cell_type": "markdown",
   "id": "a22abc80",
   "metadata": {},
   "source": [
    "### Example 1: Caption without a prompt"
   ]
  },
  {
   "cell_type": "code",
   "execution_count": null,
   "id": "be512c75",
   "metadata": {
    "scrolled": true
   },
   "outputs": [],
   "source": [
    "caption = blip2_manager.generate_response(image, model_params=model_params)\n",
    "print(f'BLIP2 caption without prompt: \"{caption}\"')"
   ]
  },
  {
   "cell_type": "markdown",
   "id": "f67a0e8f",
   "metadata": {},
   "source": [
    "### Example 2: Asking questions to BLIP"
   ]
  },
  {
   "cell_type": "code",
   "execution_count": null,
   "id": "785d009d",
   "metadata": {},
   "outputs": [],
   "source": [
    "question1 = \"Question: where is the picture taken? Answer:\"\n",
    "response1 = blip2_manager.generate_response(image, prompt=question1, model_params=model_params)\n",
    "print(f'Prompt input: \"{question1}\" - BLIP2 Output: \"{response1}\"')\n",
    "\n",
    "question2 = \"Question: what are the different objects in the image? Answer:\"\n",
    "response2 = blip2_manager.generate_response(image, prompt=question2, model_params=model_params)\n",
    "print(f'Prompt input: \"{question2}\" - BLIP2 Output: \"{response2}\"')\n",
    "\n",
    "question3 = \"Question: Who is in the image? Answer:\"\n",
    "response3 = blip2_manager.generate_response(image, prompt=question3, model_params=model_params)\n",
    "print(f'Prompt input: \"{question3}\" - BLIP2 Output: \"{response3}\"')"
   ]
  },
  {
   "cell_type": "code",
   "execution_count": null,
   "id": "05dac5ff",
   "metadata": {},
   "outputs": [],
   "source": []
  }
 ],
 "metadata": {
  "kernelspec": {
   "display_name": "Python 3 (ipykernel)",
   "language": "python",
   "name": "python3"
  },
  "language_info": {
   "codemirror_mode": {
    "name": "ipython",
    "version": 3
   },
   "file_extension": ".py",
   "mimetype": "text/x-python",
   "name": "python",
   "nbconvert_exporter": "python",
   "pygments_lexer": "ipython3",
   "version": "3.9.16"
  }
 },
 "nbformat": 4,
 "nbformat_minor": 5
}
